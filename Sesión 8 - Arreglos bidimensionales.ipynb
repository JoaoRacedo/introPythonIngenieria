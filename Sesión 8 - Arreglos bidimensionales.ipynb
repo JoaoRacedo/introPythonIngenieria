{
 "cells": [
  {
   "cell_type": "markdown",
   "metadata": {},
   "source": [
    "## Sesión 8 - Arreglos bidimensionales (Matrices)\n",
    "\n",
    "En esta sesión de laboratorio vamos trabajar con **series**, **listas** y **ciclos**. Al finalizar esta sesión, estarás en capacidad de:\n",
    "- Escribir un programa que calcule el valor de una serie hasta un valor N\n",
    "- Resolver problemas que requieran matrices y arreglos bidimensionales"
   ]
  },
  {
   "cell_type": "markdown",
   "metadata": {},
   "source": [
    "Estos Notebooks de Python fueron creados por el profesor Camilo Vieira (PhD) del grupo de *Informática Educativa* para el curso de Algoritmia y Programación I de la Universidad del Norte, en Barranquilla - Colombia. \n",
    "\n",
    "Todos estos materiales cuentan con una licencia **Creative Commons** de libre uso con atribución.\n",
    "\n",
    "**Información de Contacto:** \n",
    "- cvieira@uninorte.edu.co\n",
    "- @cvieiram\n",
    "- https://cvieira77.wixsite.com/personal"
   ]
  },
  {
   "cell_type": "markdown",
   "metadata": {},
   "source": [
    "## De listas a Matrices\n",
    "Recordemos que podemos crear una lista así:"
   ]
  },
  {
   "cell_type": "code",
   "execution_count": 16,
   "metadata": {},
   "outputs": [
    {
     "data": {
      "text/plain": [
       "[6, 5, 4, 5]"
      ]
     },
     "execution_count": 16,
     "metadata": {},
     "output_type": "execute_result"
    }
   ],
   "source": [
    "milista = [6, 5, 4, 5]\n",
    "milista"
   ]
  },
  {
   "cell_type": "markdown",
   "metadata": {},
   "source": [
    "Una matriz es finalmente, una lista de listas, así que podemos usar una estructura similar para crearla"
   ]
  },
  {
   "cell_type": "code",
   "execution_count": 17,
   "metadata": {},
   "outputs": [
    {
     "data": {
      "text/plain": [
       "[[1, 4, 5], [-5, 8, 9], [-5, 8, 9]]"
      ]
     },
     "execution_count": 17,
     "metadata": {},
     "output_type": "execute_result"
    }
   ],
   "source": [
    "miMatriz = [[1, 4, 5], [-5, 8, 9], [-5, 8, 9]]\n",
    "miMatriz"
   ]
  },
  {
   "cell_type": "markdown",
   "metadata": {},
   "source": [
    "Podemos también acceder a la posición en la segunda fila, primera columna así:"
   ]
  },
  {
   "cell_type": "code",
   "execution_count": 18,
   "metadata": {},
   "outputs": [
    {
     "data": {
      "text/plain": [
       "-5"
      ]
     },
     "execution_count": 18,
     "metadata": {},
     "output_type": "execute_result"
    }
   ],
   "source": [
    "miMatriz[1][0]"
   ]
  },
  {
   "cell_type": "markdown",
   "metadata": {},
   "source": [
    "### Actividad\n",
    "Crea una matriz de 10x10 con números aleatorios, y e imprímela como un cuadrado."
   ]
  },
  {
   "cell_type": "code",
   "execution_count": 19,
   "metadata": {},
   "outputs": [
    {
     "name": "stdout",
     "output_type": "stream",
     "text": [
      "[5, 6, 3, 7, 7, 9, 7, 10, 3, 10, 3, 5, 3, 10, 8, 9, 8, 1, 7, 2, 10, 10, 3, 5, 8, 10, 10, 1, 6, 2, 4, 1, 4, 6, 4, 10, 3, 1, 7, 4, 6, 5, 1, 9, 3, 1, 4, 7, 3, 9, 1, 6, 9, 4, 1, 9, 2, 2, 10, 8, 9, 1, 8, 10, 2, 2, 2, 2, 3, 9, 4, 4, 9, 10, 1, 1, 10, 8, 4, 5, 7, 10, 2, 2, 6, 5, 9, 2, 1, 10, 4, 6, 9, 9, 3, 8, 10, 1, 2, 3]\n"
     ]
    }
   ],
   "source": [
    "# Pista - Acá está el código que usábamos para crear arreglos con números aleatorios\n",
    "import random\n",
    "\n",
    "miLista = []\n",
    "\n",
    "for i in range(0,100):\n",
    "    x = random.randint(1,10)\n",
    "    miLista.append(x)\n",
    "print(miLista)"
   ]
  },
  {
   "cell_type": "code",
   "execution_count": null,
   "metadata": {},
   "outputs": [],
   "source": []
  },
  {
   "cell_type": "markdown",
   "metadata": {},
   "source": [
    "### Toda una Fila o Toda una Columna\n",
    "Además, podemos acceder a una fila completa así"
   ]
  },
  {
   "cell_type": "code",
   "execution_count": 20,
   "metadata": {},
   "outputs": [
    {
     "data": {
      "text/plain": [
       "[-5, 8, 9]"
      ]
     },
     "execution_count": 20,
     "metadata": {},
     "output_type": "execute_result"
    }
   ],
   "source": [
    "miMatriz[1]"
   ]
  },
  {
   "cell_type": "markdown",
   "metadata": {},
   "source": [
    "Sin embargo, no podemos acceder a una sola columna de la misma manera..."
   ]
  },
  {
   "cell_type": "code",
   "execution_count": 21,
   "metadata": {},
   "outputs": [
    {
     "ename": "SyntaxError",
     "evalue": "invalid syntax (<ipython-input-21-ceac1d56cd0f>, line 1)",
     "output_type": "error",
     "traceback": [
      "\u001b[1;36m  File \u001b[1;32m\"<ipython-input-21-ceac1d56cd0f>\"\u001b[1;36m, line \u001b[1;32m1\u001b[0m\n\u001b[1;33m    miMatriz[][1]\u001b[0m\n\u001b[1;37m             ^\u001b[0m\n\u001b[1;31mSyntaxError\u001b[0m\u001b[1;31m:\u001b[0m invalid syntax\n"
     ]
    }
   ],
   "source": [
    "miMatriz[][1]"
   ]
  },
  {
   "cell_type": "markdown",
   "metadata": {},
   "source": [
    "En lugar de esto, podemos usar un loop para sacar toda la columna:"
   ]
  },
  {
   "cell_type": "code",
   "execution_count": 22,
   "metadata": {},
   "outputs": [
    {
     "data": {
      "text/plain": [
       "[4, 8, 8]"
      ]
     },
     "execution_count": 22,
     "metadata": {},
     "output_type": "execute_result"
    }
   ],
   "source": [
    "[col[1] for col in miMatriz]"
   ]
  },
  {
   "cell_type": "markdown",
   "metadata": {},
   "source": [
    "## Actividades\n",
    "- Imprime las columnas impares de la matriz que creaste con números aleatorios\n",
    "- Calcula el promedio de cada columna en una matriz\n",
    "- Solicita un valor al usuario y cuenta cuántas veces está en tu matriz de números aleatorios.\n"
   ]
  },
  {
   "cell_type": "code",
   "execution_count": null,
   "metadata": {},
   "outputs": [],
   "source": []
  },
  {
   "cell_type": "markdown",
   "metadata": {},
   "source": [
    "## Actividad\n",
    "\n",
    "Ahora vamos a hacer algunos ejercicios adicionales conectados con las actividades de clase de ayer:\n",
    "\n",
    "- Escribe un programa que imprima la diagonal principal de una matriz. Asegúrate de validar si la matriz es cuadrada\n",
    "- Escribe un programa que permita identificar el porcentaje de genes comunes entre cada par de individuos de una matrix donde cada fila corresponde a un individuo y cada columna corresponde a un gen.\n",
    "- Escribe un programa que compare la distancia entre los átomos almacenados en las filas de una matrix, donde las tres columnas corresponden a la posición X, Y, Z. \n",
    "$$ d = \\sqrt{(x_2 -x_1)^2+(y_2 -y_1)^2+(z_2 -z_1)^2} $$\n",
    "- Ahora almacena las distancias entre los átomos en una nueva matriz llamada distancias, donde tanto las columas como las filas corresponden a los átomos,  cada celda la distancia entre éstos.\n",
    "<img src=\"https://46gyn61z4i0t1u1pnq2bbk2e-wpengine.netdna-ssl.com/wp-content/uploads/2018/04/Distance-Matrix.png\" width=\"380\">"
   ]
  },
  {
   "cell_type": "code",
   "execution_count": null,
   "metadata": {},
   "outputs": [],
   "source": []
  }
 ],
 "metadata": {
  "kernelspec": {
   "display_name": "Python 3",
   "language": "python",
   "name": "python3"
  },
  "language_info": {
   "codemirror_mode": {
    "name": "ipython",
    "version": 3
   },
   "file_extension": ".py",
   "mimetype": "text/x-python",
   "name": "python",
   "nbconvert_exporter": "python",
   "pygments_lexer": "ipython3",
   "version": "3.7.3"
  }
 },
 "nbformat": 4,
 "nbformat_minor": 2
}
