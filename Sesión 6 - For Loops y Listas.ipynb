{
 "cells": [
  {
   "cell_type": "markdown",
   "metadata": {},
   "source": [
    "## Sesión 6 - Ciclos (For Loops) y Listas en Python  Mientras Que\n",
    "\n",
    "En esta sesión de laboratorio vamos seguir trabajando con la estructura **Mientras Que** (en inglés, While), pero ahora vamos a tener ciclos embebidos dentro de otros ciclos, y también trabajaremos con el ciclo **Para** (en inglés, For). Al finalizar esta sesión, estarás en capacidad de:\n",
    "- Resolver problemas en Python que requieran ejecutar tareas de manera repetitiva utilizando la estructura *for*\n",
    "- Identificar cuántas veces se ejecutará una serie de instrucciones que estén dentro de un ciclo/loop *for*\n",
    "- Crear listas de datos y acceder a posiciones específicas dentro de la lista"
   ]
  },
  {
   "cell_type": "markdown",
   "metadata": {},
   "source": [
    "Estos Notebooks de Python fueron creados por el profesor Camilo Vieira (PhD) del grupo de *Informática Educativa* para el curso de Algoritmia y Programación I de la Universidad del Norte, en Barranquilla - Colombia. \n",
    "\n",
    "Todos estos materiales cuentan con una licencia **Creative Commons** de libre uso con atribución.\n",
    "\n",
    "**Información de Contacto:** \n",
    "- cvieira@uninorte.edu.co\n",
    "- @cvieiram\n",
    "- https://cvieira77.wixsite.com/personal"
   ]
  },
  {
   "cell_type": "markdown",
   "metadata": {},
   "source": [
    "## Listas de Valores\n",
    "Una estructura de datos bastante útil en programación es una lista de valores, a menudo conocida como un *arreglo* (en inglés, *Array* ). **Nota:** En Python hay algunas diferencias menores entre un arreglo y una lista, pero por ahora vamos a asumir que son lo mismo.\n",
    "\n",
    "Para crear una lista, utilizamos los corchetes y separamos los valores de nuestra estructura con una *coma.* Por ejemplo, en la siguiente instrucción estamos creando una lista llamada **a** con los valores 1, 3, 2, 5, 2."
   ]
  },
  {
   "cell_type": "code",
   "execution_count": 3,
   "metadata": {},
   "outputs": [
    {
     "name": "stdout",
     "output_type": "stream",
     "text": [
      "[1, 3, 2, 5, 2]\n"
     ]
    }
   ],
   "source": [
    "a = [1, 3, 2, 5, 2]\n",
    "print(a)"
   ]
  },
  {
   "cell_type": "markdown",
   "metadata": {},
   "source": [
    "Las listas no necesariamente tienen que ser de números, también pueden ser de texto:"
   ]
  },
  {
   "cell_type": "code",
   "execution_count": 4,
   "metadata": {},
   "outputs": [
    {
     "name": "stdout",
     "output_type": "stream",
     "text": [
      "['María', 'Juan', 'Andrés']\n"
     ]
    }
   ],
   "source": [
    "nombres = [\"María\", \"Juan\",\"Andrés\"]\n",
    "print(nombres)"
   ]
  },
  {
   "cell_type": "markdown",
   "metadata": {},
   "source": [
    "Cada valor en la lista puede ser accedida utilizando su posición, donde la primera posición de la lista es considerada la posición **cero**. Por ejemplo, para obtener el valor en la segunda posición de **a** y el tercer nombre en la lista de nombres, utilizamos las siguientes instrucciones:"
   ]
  },
  {
   "cell_type": "code",
   "execution_count": 20,
   "metadata": {},
   "outputs": [
    {
     "name": "stdout",
     "output_type": "stream",
     "text": [
      "3\n",
      "Andrés\n"
     ]
    }
   ],
   "source": [
    "print(a[1])\n",
    "print(nombres[2])"
   ]
  },
  {
   "cell_type": "markdown",
   "metadata": {},
   "source": [
    "### Actividad\n",
    "Escribe un programa en Python que imprima uno a uno los tres primeros valores de la lista **a** junto a los tres primeros nombres de la lista "
   ]
  },
  {
   "cell_type": "code",
   "execution_count": null,
   "metadata": {},
   "outputs": [],
   "source": []
  },
  {
   "cell_type": "markdown",
   "metadata": {},
   "source": [
    "Una forma útil de recorrer una lista en Python es utilizando ciclos. El ciclo **for** es ideal para estas tareas ya que con tan solo la siguiente estructura, ya Python sabrá que necesitamos recorrer todos los elementos de la lista:"
   ]
  },
  {
   "cell_type": "code",
   "execution_count": 21,
   "metadata": {},
   "outputs": [
    {
     "name": "stdout",
     "output_type": "stream",
     "text": [
      "1\n",
      "3\n",
      "2\n",
      "5\n",
      "2\n",
      "María\n",
      "Juan\n",
      "Andrés\n"
     ]
    }
   ],
   "source": [
    "for i in a:\n",
    "    print(i)\n",
    "\n",
    "for y in nombres:\n",
    "    print(y)\n"
   ]
  },
  {
   "cell_type": "markdown",
   "metadata": {},
   "source": [
    "### Actividad\n",
    "Modifica el código anterior para que imprima todas las combinaciones de números y nombres, así:\n",
    "\n",
    "1 - María\n",
    "\n",
    "1 - Juan\n",
    "\n",
    "1 - Andrés\n",
    "\n",
    "3 - María\n",
    "\n",
    "3 - Juan\n",
    "\n",
    "3 - Andrés\n",
    "\n",
    "2 - María\n",
    "\n",
    "2 - Juan\n",
    "\n",
    "2 - Andrés\n",
    "\n",
    "... y así sucesivamente.\n"
   ]
  },
  {
   "cell_type": "code",
   "execution_count": null,
   "metadata": {},
   "outputs": [],
   "source": []
  },
  {
   "cell_type": "markdown",
   "metadata": {},
   "source": [
    "## Algunas funciones útiles\n",
    "Algunas funciones útiles para trabajar con las listas son las siguientes:"
   ]
  },
  {
   "cell_type": "markdown",
   "metadata": {},
   "source": [
    "### range(i)\n",
    "range(i) : Crea una lista de números de 0 al i. Para que en realidad lo podamos ver como una lista, debemos decirle a Python que tome este rango como una lista:"
   ]
  },
  {
   "cell_type": "code",
   "execution_count": 18,
   "metadata": {},
   "outputs": [
    {
     "name": "stdout",
     "output_type": "stream",
     "text": [
      "[0, 1, 2, 3, 4, 5, 6, 7, 8, 9, 10, 11, 12, 13, 14, 15, 16, 17, 18, 19, 20, 21, 22, 23, 24, 25, 26, 27, 28, 29, 30, 31, 32, 33, 34, 35, 36, 37, 38, 39, 40, 41, 42, 43, 44, 45, 46, 47, 48, 49]\n"
     ]
    }
   ],
   "source": [
    "b = list(range(50))\n",
    "print(b)"
   ]
  },
  {
   "cell_type": "markdown",
   "metadata": {},
   "source": [
    "### Actividad\n",
    "¿Cómo podrías utilizar esta función para crear una lista de los números pares del 100 al 50? **Pista** Busca en Internet \"Python range\""
   ]
  },
  {
   "cell_type": "code",
   "execution_count": null,
   "metadata": {},
   "outputs": [],
   "source": []
  },
  {
   "cell_type": "markdown",
   "metadata": {},
   "source": [
    "### len(x)\n",
    "La función len permite calcular el tamaño de una lista, así:"
   ]
  },
  {
   "cell_type": "code",
   "execution_count": 19,
   "metadata": {},
   "outputs": [
    {
     "data": {
      "text/plain": [
       "50"
      ]
     },
     "execution_count": 19,
     "metadata": {},
     "output_type": "execute_result"
    }
   ],
   "source": [
    "len(b)"
   ]
  },
  {
   "cell_type": "markdown",
   "metadata": {},
   "source": [
    "### Actividad\n",
    "Calcula e imprime el tamaño de la lista nombres"
   ]
  },
  {
   "cell_type": "markdown",
   "metadata": {},
   "source": [
    "Las listas son muy útiles porque nos permiten tener muchos datos en una sola variable, y podemos hacer muchas operaciones con todos estos datos.\n",
    "\n",
    "## Actividad\n",
    "Busca cómo podrías crear una lista de números aleatorios en Python, y crea tres funciones:\n",
    "\n",
    "- Una función que identifique el número mayor valor de una lista\n",
    "- Una función que identifique cuáles números de la lista son números primos\n",
    "- Una función que ordene los datos ascendentemente"
   ]
  },
  {
   "cell_type": "code",
   "execution_count": null,
   "metadata": {},
   "outputs": [],
   "source": []
  },
  {
   "cell_type": "code",
   "execution_count": null,
   "metadata": {},
   "outputs": [],
   "source": []
  },
  {
   "cell_type": "markdown",
   "metadata": {},
   "source": [
    "### Graficando Funciones\n",
    "Recuerda que podemos crear un gráfico de dispersión con las siguientes instrucciones"
   ]
  },
  {
   "cell_type": "code",
   "execution_count": 3,
   "metadata": {},
   "outputs": [
    {
     "data": {
      "text/plain": [
       "<matplotlib.collections.PathCollection at 0x22beab6cbe0>"
      ]
     },
     "execution_count": 3,
     "metadata": {},
     "output_type": "execute_result"
    },
    {
     "data": {
      "image/png": "[encoded data removed]",
      "text/plain": [
       "<Figure size 432x288 with 1 Axes>"
      ]
     },
     "metadata": {
      "needs_background": "light"
     },
     "output_type": "display_data"
    }
   ],
   "source": [
    "import matplotlib.pyplot as plt\n",
    "import random\n",
    "plt.scatter(1, random.randint(1,10),s=1000)\n",
    "plt.scatter(2, random.randint(1,10),s=1000)\n",
    "plt.scatter(3, random.randint(1,10),s=1000)\n",
    "plt.scatter(4, random.randint(1,10),s=1000)\n",
    "plt.scatter(5, random.randint(1,10),s=1000)\n",
    "plt.scatter(6, random.randint(1,10),s=1000)\n",
    "plt.scatter(7, random.randint(1,10),s=1000)\n",
    "plt.scatter(8, random.randint(1,10),s=1000)\n",
    "\n"
   ]
  },
  {
   "cell_type": "markdown",
   "metadata": {},
   "source": [
    "### Actividad\n",
    "\n",
    "Escribe un programa que evalúe la siguiente función para un valor de Y solicitado al usuario, y donde X tome los valores de todos los números pares entre -50 y 50 y los grafique en u gráfico de dispersión.\n",
    "\n",
    "\\begin{equation*}\n",
    "f(x, y) = \n",
    "\\left\\{ \\begin{matrix} \n",
    "x+y & \\quad x \\geq 0 \\quad and \\quad y \\geq 0 \\\\ \n",
    "x+y^2 & \\quad x \\geq 0 \\quad and \\quad y \\geq 0 \\\\ \n",
    "x^2+y & \\quad x \\geq 0 \\quad and \\quad y \\geq 0 \\\\ \n",
    "x^2+y^2 & \\quad x \\geq 0 \\quad and \\quad y \\geq 0 \\\\ \n",
    "\\end{matrix} \n",
    "\\right\\}\n",
    "\\end{equation*}\n",
    "\n",
    "\n"
   ]
  },
  {
   "cell_type": "code",
   "execution_count": null,
   "metadata": {},
   "outputs": [],
   "source": []
  },
  {
   "cell_type": "markdown",
   "metadata": {},
   "source": [
    "### Ciclos Embebidos\n",
    "Así como podemos incluir condicionales dentro de nuestros ciclos, también podemos incluir otros ciclos. Es decir, por cada iteración (cada vez que ejecute las instrucciones, hará todo lo que tenga el ciclo interior. Un ciclo dentro de otro ciclo se llama un **Ciclo embebido** (en inglés, nested loops).\n",
    "\n",
    "Por ejemplo, el siguiente programa imprime todas las combinaciones de los números del 1 al 5 con los números del 1 al 15. Discute con tus compañeros para identificar cómo lo hace."
   ]
  },
  {
   "cell_type": "code",
   "execution_count": 7,
   "metadata": {},
   "outputs": [
    {
     "name": "stdout",
     "output_type": "stream",
     "text": [
      "1 , 10\n",
      "1 , 11\n",
      "1 , 12\n",
      "1 , 13\n",
      "1 , 14\n",
      "1 , 15\n",
      "2 , 10\n",
      "2 , 11\n",
      "2 , 12\n",
      "2 , 13\n",
      "2 , 14\n",
      "2 , 15\n",
      "3 , 10\n",
      "3 , 11\n",
      "3 , 12\n",
      "3 , 13\n",
      "3 , 14\n",
      "3 , 15\n",
      "4 , 10\n",
      "4 , 11\n",
      "4 , 12\n",
      "4 , 13\n",
      "4 , 14\n",
      "4 , 15\n",
      "5 , 10\n",
      "5 , 11\n",
      "5 , 12\n",
      "5 , 13\n",
      "5 , 14\n",
      "5 , 15\n"
     ]
    }
   ],
   "source": [
    "i = 1\n",
    "j = 10\n",
    "while i < 6:\n",
    "    while j < 16:\n",
    "        print(i, \",\", j)\n",
    "        j = j + 1\n",
    "    i = i + 1\n",
    "    j=10"
   ]
  },
  {
   "cell_type": "markdown",
   "metadata": {},
   "source": [
    "### Actividad\n",
    "Cambia el programa anterior para que:\n",
    "- Imprima todas las combinaciones de los números del 1 al 5 con los números del 1 al 15 pero de mayor a menor.\n",
    "- Imprima todas las combinaciones de los números del 1 al 10, con los números 20 al 25"
   ]
  },
  {
   "cell_type": "code",
   "execution_count": null,
   "metadata": {},
   "outputs": [],
   "source": []
  },
  {
   "cell_type": "markdown",
   "metadata": {},
   "source": [
    "### Actividad\n",
    "Ahora que ya dominas los ciclos embebidos, volvamos a la función del programa anterior.\n",
    "\n",
    "\\begin{equation*}\n",
    "f(x, y) = \n",
    "\\left\\{ \\begin{matrix} \n",
    "x+y & \\quad x \\geq 0 \\quad and \\quad y \\geq 0 \\\\ \n",
    "x+y^2 & \\quad x \\geq 0 \\quad and \\quad y \\geq 0 \\\\ \n",
    "x^2+y & \\quad x \\geq 0 \\quad and \\quad y \\geq 0 \\\\ \n",
    "x^2+y^2 & \\quad x \\geq 0 \\quad and \\quad y \\geq 0 \\\\ \n",
    "\\end{matrix} \n",
    "\\right\\}\n",
    "\\end{equation*}\n",
    "\n",
    "\n",
    "Tu tarea ahora es crear un programa que evalúe todas las posibles combinaciones de valores de X, Y en el rango -50 a 50, y las grafique en una gráfica de dispersión"
   ]
  },
  {
   "cell_type": "code",
   "execution_count": null,
   "metadata": {},
   "outputs": [],
   "source": []
  },
  {
   "cell_type": "markdown",
   "metadata": {},
   "source": [
    "## Actividad\n",
    "Recuerdas la secuencia de Fibonacci? \n",
    "\n",
    "<img src=\"https://i.ytimg.com/vi/T8xgfVzef_E/hqdefault.jpg\" width=\"300\">\n",
    "\n",
    "\n",
    "La secuencia comienza con los números 0, 1 y 1, y a partir de allí es posible calcular el siguiente valor como la suma de los dos valores anteriores. Por ejemplo, 1+1=2, 1+2=3, 2+3=5, etc.\n",
    "\n",
    "Así, los primeros números de la secuencia son: 0, 1, 1, 2, 3, 5, 8, 13, 21, 34, ...\n",
    "\n",
    "**En parejas**, crea un programa que le solicite al usuario un número *N* e imprima los primeros *N* números de la secuencia de Fibonacci."
   ]
  }
 ],
 "metadata": {
  "kernelspec": {
   "display_name": "Python 3",
   "language": "python",
   "name": "python3"
  },
  "language_info": {
   "codemirror_mode": {
    "name": "ipython",
    "version": 3
   },
   "file_extension": ".py",
   "mimetype": "text/x-python",
   "name": "python",
   "nbconvert_exporter": "python",
   "pygments_lexer": "ipython3",
   "version": "3.7.3"
  }
 },
 "nbformat": 4,
 "nbformat_minor": 2
}
