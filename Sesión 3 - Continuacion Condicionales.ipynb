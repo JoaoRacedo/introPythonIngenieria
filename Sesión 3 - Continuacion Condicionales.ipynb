{
 "cells": [
  {
   "cell_type": "markdown",
   "metadata": {},
   "source": [
    "## Sesión 3 - Continuación Condicionales\n",
    "\n",
    "En esta tercera sesion de laboratorio vamos a trabajar condicionales, y la operación módulo en Python. Al finalizar esta sesión, estarás en capacidad de:\n",
    "- Aplicar la operación módulo en Python para calcular el residuo de una división entre dos números enteros\n",
    "- Utilizar la estructura Dependiendo De (Switch Case) para ejecutar diferentes instrucciones según los valores de una variable.\n",
    "- Aplicar conceptos básicos de la matemática en la solución de problemas.\n",
    "- Aplicar la lógica algorítmica para definir una solución a un problema propuesto, en términos de entrada-proceso-salida.\n",
    "- Utilizar Python para escribir algoritmos que ejecuten diferentes instrucciones dadas diferentes condiciones\n"
   ]
  },
  {
   "cell_type": "markdown",
   "metadata": {},
   "source": [
    "Estos Notebooks de Python fueron creados por el profesor Camilo Vieira (PhD) del grupo de *Informática Educativa* para el curso de Algoritmia y Programación I de la Universidad del Norte, en Barranquilla - Colombia. \n",
    "\n",
    "Todos estos materiales cuentan con una licencia **Creative Commons** de libre uso con atribución.\n",
    "\n",
    "**Información de Contacto:** \n",
    "- cvieira@uninorte.edu.co\n",
    "- @cvieiram\n",
    "- https://cvieira77.wixsite.com/personal"
   ]
  },
  {
   "cell_type": "markdown",
   "metadata": {},
   "source": [
    "## Actividad\n",
    "Vamos a comenzar por implementar algunos de los ejercicios que hicimos ayer en clase para recordar un poco de Python. Escribe el algoritmo que imprima el menor entre tres números ingresados por el usuario. Si hay dos números iguales que son menores, el programa debe imprimir \"Los números a y b, son iguales y son los menores\". Si los tres números son iguales, el programa debe imprimir \"Los tres números son iguales\"."
   ]
  },
  {
   "cell_type": "code",
   "execution_count": 7,
   "metadata": {},
   "outputs": [
    {
     "name": "stdout",
     "output_type": "stream",
     "text": [
      "90\n"
     ]
    }
   ],
   "source": []
  },
  {
   "cell_type": "markdown",
   "metadata": {},
   "source": [
    "### Módulo\n",
    "\n",
    "La operación módulo en Python se escribe con %. Recuerda que:\n",
    "\n",
    "- 10 % 2 = 0\n",
    "\n",
    "- 17 % 3 = 2\n",
    "\n",
    "- 22 % 5 = 2\n"
   ]
  },
  {
   "cell_type": "markdown",
   "metadata": {},
   "source": [
    "## Actividad\n",
    "Escribe un programa en Python que le pida un número al usuario, e imprima si es par o impar."
   ]
  },
  {
   "cell_type": "code",
   "execution_count": null,
   "metadata": {},
   "outputs": [],
   "source": []
  },
  {
   "cell_type": "markdown",
   "metadata": {},
   "source": [
    "#### Hacer Gráficos en Python\n",
    "\n",
    "Otra de las grandes ventajas que tiene programas es poder crear visualizaciones. Hay muchos tipos de visualizaciones que podemos crear en un lenguaje como Python, y cada una de estas puede tener un objetivo diferente. Estos son solo algunos ejemplos de cosas que podemos crear:\n",
    "\n",
    "\n",
    "<img src=\"https://miro.medium.com/max/1400/1*_Dr91ijJb3uchQtuF2eloA.png\" width=\"380\">\n",
    "\n",
    "Un gráfico de dispersión (en inglés Scatter plot) nos muestra dónde están diferentes puntos en un plano, y buscar algunos patrones de ubicación:\n",
    "\n",
    "<img src=\"https://i.stack.imgur.com/wd79r.png\" width=\"380\">\n",
    "\n",
    "\n",
    "En este ejemplo tenemos muchos puntos, y cada punto tiene una posición en x y una posición en y. \n",
    "\n",
    "Para diferentes visualizaciones, existen diferentes librerías, pero vamos a comenzar con algo sencillo. Para dibujar un punto en el plano importamos la librería **matplotlib**. Mira que en este caso importamos en realidad **matplotlib.pyplot**, donde pyplot es un módulo de **matplotlib**, y le damos un hombre *plt* que luego usamos para llamar sus funciones.\n"
   ]
  },
  {
   "cell_type": "code",
   "execution_count": 3,
   "metadata": {},
   "outputs": [
    {
     "data": {
      "text/plain": [
       "<matplotlib.collections.PathCollection at 0x21d21210fd0>"
      ]
     },
     "execution_count": 3,
     "metadata": {},
     "output_type": "execute_result"
    },
    {
     "data": {
      "image/png": "[encoded data removed]",
      "text/plain": [
       "<Figure size 432x288 with 1 Axes>"
      ]
     },
     "metadata": {
      "needs_background": "light"
     },
     "output_type": "display_data"
    }
   ],
   "source": [
    "import matplotlib.pyplot as plt\n",
    "plt.scatter(3, 9,s=1000)"
   ]
  },
  {
   "cell_type": "markdown",
   "metadata": {},
   "source": [
    "## Actividad\n",
    "\n",
    "Nos han encomendado hacer un programa que lea una coordenada X, Y, e imprima en qué cuadrante del plano se ubica dicha coordenada. Además, grafica este punto en el plano utilizando la libreria **matplotlib**"
   ]
  },
  {
   "cell_type": "code",
   "execution_count": null,
   "metadata": {},
   "outputs": [],
   "source": []
  },
  {
   "cell_type": "markdown",
   "metadata": {},
   "source": [
    "## Actividad\n",
    "La contaminación en las principales ciudades del país es algo que preocupa a los gobernantes. \n",
    "\n",
    "Las concentraciones de contaminantes se miden con un valor llamado el Índice de Calidad del Aire (ICA). \n",
    "\n",
    "<img src=\"https://uploads.knightlab.com/storymapjs/928d658dfbbe2d2748d878f9350e303f/las-estaciones-de-monitoreo-del-aire-del-valle-de-aburra/_images/Calidad%20del%20aire.jpg\" width=\"380\">\n",
    "\n",
    "**Reto:** Escribe un programa que capture el ICA y muestre el la clasificación según el valor ingresado"
   ]
  },
  {
   "cell_type": "code",
   "execution_count": null,
   "metadata": {},
   "outputs": [],
   "source": []
  },
  {
   "cell_type": "markdown",
   "metadata": {},
   "source": [
    "## Actividad\n",
    "Revisa el programa de tu compañer@ y verifica si está correcto"
   ]
  },
  {
   "cell_type": "markdown",
   "metadata": {},
   "source": [
    "## Actividad\n",
    "**En Parejas** Crea un programa que le solicite tres nombres al usuario y los imprima en orden alfabético."
   ]
  },
  {
   "cell_type": "code",
   "execution_count": null,
   "metadata": {},
   "outputs": [],
   "source": []
  },
  {
   "cell_type": "markdown",
   "metadata": {},
   "source": [
    "### Dependiendo De\n",
    "En Python no existe la estructura **Dependiendo De**. En otros lenguajes, como en Java, esta estructura se llama **Switch-case**, pero acá no fue definida dentro del lenguaje.\n",
    "\n",
    "Sin embargo, si quisiéramos tener algo que nos permita hacer lo mismo que la estructura **Dependiendo De** podemnos crear una *función*. Una función es un conjunto de instrucciones que agrupamos con un nombre. \n",
    "\n",
    "Ya hemos utilizado varias funciones como por ejemplo **input()**, que le pide un dato al usuario, **print('')** que imprime lo que le pongamos entre paréntesis, ó **randint(1,101)** de la librería *random* que genéra un número aleatorio en el rango de parámetros que le pongamos.\n",
    "\n",
    "Pero nosotros también podemos definir nuestras propias funciones, y para eso utilizamos la palabra clave **def.** Por ejemplo, si queremos tener una función que calcule la suma entre dos números, hacemos:"
   ]
  },
  {
   "cell_type": "code",
   "execution_count": 21,
   "metadata": {},
   "outputs": [],
   "source": [
    "def suma(a,b):\n",
    "    return a+b"
   ]
  },
  {
   "cell_type": "markdown",
   "metadata": {},
   "source": [
    "Luego, para usar esta función que acabamos de crear, simplemente utilizamos el nombre que le acabamos de dar:"
   ]
  },
  {
   "cell_type": "code",
   "execution_count": 22,
   "metadata": {},
   "outputs": [
    {
     "name": "stdout",
     "output_type": "stream",
     "text": [
      "12\n",
      "5\n",
      "8488995\n"
     ]
    }
   ],
   "source": [
    "c = suma(5, 7)\n",
    "d = suma(3, 2)  # Lo interesante de las funciones es que podemos cambiar los parámetros cada vez y siempre nos dará un resultado\n",
    "print(c)\n",
    "print(d)\n",
    "print(suma(3254353, 5234642))"
   ]
  },
  {
   "cell_type": "markdown",
   "metadata": {},
   "source": [
    "### NOTA:\n",
    "*¿Recuerdas la estructura inicial que hablamos de un programa? *\n",
    "\n",
    "**Entrada - Proceso - Salida** \n",
    "\n",
    "Esto es precisalmente o que estamos haciendo aquí. La entrada son los parámetros (los valores de a y b), el proceso es la suma, y la salida es el resultado."
   ]
  },
  {
   "cell_type": "markdown",
   "metadata": {},
   "source": [
    "## Actividad\n",
    "Crea una función que reciba tres parámetros a, b, c que corresponden a los coeficientes de una ecuación cuadrática e imprima las posibles soluciones para X utilizando la fórmula general."
   ]
  },
  {
   "cell_type": "code",
   "execution_count": null,
   "metadata": {},
   "outputs": [],
   "source": []
  },
  {
   "cell_type": "markdown",
   "metadata": {},
   "source": [
    "### Dependiendo De\n",
    "Pero volvamos al **DependiendoDe**, que vamos a definir como una función que recibe un parámetro (el valor que queremos evaluar), y va a retornar un valor según lo que venga en el parámetro."
   ]
  },
  {
   "cell_type": "code",
   "execution_count": 25,
   "metadata": {},
   "outputs": [],
   "source": [
    "def dependiendoDe(x):\n",
    "    return {\n",
    "        'a': 1,\n",
    "        'b': 2,\n",
    "        'c': print('Hola'),\n",
    "        'd': 4\n",
    "    }[x]\n"
   ]
  },
  {
   "cell_type": "code",
   "execution_count": 27,
   "metadata": {},
   "outputs": [
    {
     "name": "stdout",
     "output_type": "stream",
     "text": [
      "Hola\n"
     ]
    },
    {
     "data": {
      "text/plain": [
       "2"
      ]
     },
     "execution_count": 27,
     "metadata": {},
     "output_type": "execute_result"
    }
   ],
   "source": [
    " dependiendoDe('b')"
   ]
  },
  {
   "cell_type": "markdown",
   "metadata": {},
   "source": [
    "Por ahora no es necesario que profundicemos en lo que quiere decir esa [x] al final de la función, pero esto es lo que nos permite elegir uno de los resultados. \n",
    "\n",
    "## Actividad\n",
    "\n",
    "Juan y María están haciendo un programa para jugar a los dados con las siguientes reglas: \n",
    "- Si sale 1, vuelven a lanzar.\n",
    "- Si sale 6, quedan empatados. \n",
    "- Si sale 2 ó 3 gana Juan. \n",
    "- Si sale 4 ó 5 gana María.\n",
    "\n",
    "Escribe el programa en Python utilizando el condicional DependiendoDe para escribir el mensaje según el resultado de lanzar el dado. \n",
    "\n",
    "En esta ocasión debes generar un número aleatorio entre 1 y 6 para simular el valor del dado."
   ]
  },
  {
   "cell_type": "code",
   "execution_count": null,
   "metadata": {},
   "outputs": [],
   "source": []
  },
  {
   "cell_type": "markdown",
   "metadata": {},
   "source": [
    "## Actividad\n",
    "\n",
    "En la empresa de ingeniería de ascensores donde trabajas desean automatizar la selección del cable de acero que necesitan para una carga determinada. Te entregaron la siguiente tabla y te piden crear una función que reciba como parámetro el número de toneladas de peso que debe resitir el cable (el ascensor más la carga), y debe imprimir el diámetro del cable requerido. \n",
    "\n",
    "Una solicitud adicional que te hicieron es que el programa reciba un parámetro adicional donde se especifique si debes imprimir el diámetro en milímetros (mm) o en pulgadas.\n",
    "\n",
    "<img src=\"http://www.cablecentrosac.com/imagenes/tabla5.jpg\" width=\"380\">\n",
    "\n",
    "Discute con tus compañeros diferentes estrategias para este reto y crea un programa en Python que lo solucione."
   ]
  },
  {
   "cell_type": "code",
   "execution_count": null,
   "metadata": {},
   "outputs": [],
   "source": []
  }
 ],
 "metadata": {
  "kernelspec": {
   "display_name": "Python 3",
   "language": "python",
   "name": "python3"
  },
  "language_info": {
   "codemirror_mode": {
    "name": "ipython",
    "version": 3
   },
   "file_extension": ".py",
   "mimetype": "text/x-python",
   "name": "python",
   "nbconvert_exporter": "python",
   "pygments_lexer": "ipython3",
   "version": "3.7.3"
  }
 },
 "nbformat": 4,
 "nbformat_minor": 2
}
