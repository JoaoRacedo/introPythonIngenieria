{
 "cells": [
  {
   "cell_type": "markdown",
   "metadata": {},
   "source": [
    "## Sesión 7 - Series, Listas y Ciclos ( Loops) en Python\n",
    "\n",
    "En esta sesión de laboratorio vamos trabajar con **series**, **listas** y **ciclos**. Al finalizar esta sesión, estarás en capacidad de:\n",
    "- Escribir un programa que calcule el valor de una serie hasta un valor N\n",
    "- Hacer operaciones con listas como buscar un elemento, invertir, e integrar listas"
   ]
  },
  {
   "cell_type": "markdown",
   "metadata": {},
   "source": [
    "Estos Notebooks de Python fueron creados por el profesor Camilo Vieira (PhD) del grupo de *Informática Educativa* para el curso de Algoritmia y Programación I de la Universidad del Norte, en Barranquilla - Colombia. \n",
    "\n",
    "Todos estos materiales cuentan con una licencia **Creative Commons** de libre uso con atribución.\n",
    "\n",
    "**Información de Contacto:** \n",
    "- cvieira@uninorte.edu.co\n",
    "- @cvieiram\n",
    "- https://cvieira77.wixsite.com/personal"
   ]
  },
  {
   "cell_type": "markdown",
   "metadata": {},
   "source": [
    "## Listas de Valores\n",
    "Recordemos que podemos crear una lista con números aleatorios, así:"
   ]
  },
  {
   "cell_type": "code",
   "execution_count": 3,
   "metadata": {},
   "outputs": [
    {
     "name": "stdout",
     "output_type": "stream",
     "text": [
      "[6, 10, 9, 4, 3, 7, 4, 7, 6, 2, 6, 7, 5, 2, 8, 9, 6, 2, 2, 2, 1, 2, 4, 6, 6, 3, 10, 10, 4, 5, 2, 5, 7, 6, 7, 7, 8, 2, 9, 3, 1, 3, 9, 4, 5, 10, 7, 4, 8, 3, 1, 5, 2, 9, 3, 8, 2, 9, 3, 9, 8, 4, 2, 7, 3, 1, 9, 1, 1, 1, 7, 6, 9, 8, 5, 7, 1, 3, 7, 9, 4, 1, 4, 5, 7, 2, 8, 10, 7, 4, 2, 10, 4, 8, 2, 1, 7, 1, 7, 6]\n"
     ]
    }
   ],
   "source": [
    "import random\n",
    "\n",
    "miLista = []\n",
    "\n",
    "for i in range(0,100):\n",
    "    x = random.randint(1,10)\n",
    "    miLista.append(x)\n",
    "print(miLista)"
   ]
  },
  {
   "cell_type": "markdown",
   "metadata": {},
   "source": [
    "## Actividad\n",
    "Modifica el programa anterior para que los números aleatorios vayan del 100 al 200, y para que genere únicamente 50 números aleatorios"
   ]
  },
  {
   "cell_type": "code",
   "execution_count": null,
   "metadata": {},
   "outputs": [],
   "source": []
  },
  {
   "cell_type": "markdown",
   "metadata": {},
   "source": [
    "## Actividad\n",
    "\n",
    "Ahora vamos a hacer algunos ejercicios con **miLista**:\n",
    "\n",
    "- Escribe un programa que invierta el orden de la lista (sin usar métodos existentes)\n",
    "- Escribe un programa que busque un elemento dentro de la lista e imprima todas las posiciones en las que está\n",
    "- Escribe un programa que busque un elemento dentro de la lista e imprima la tercera posición en la que está, y si no está tres veces,s imprima -1\n",
    "- Ordena **miLista** utilizando la función sort, y crea otra lista de 10 números aleatorios. Escribe un programa que integre ambas listas en una sola, de tal manera que quede organizada."
   ]
  },
  {
   "cell_type": "code",
   "execution_count": null,
   "metadata": {},
   "outputs": [],
   "source": []
  },
  {
   "cell_type": "markdown",
   "metadata": {},
   "source": [
    "### Actividad\n",
    "Escribe un programa para calcular la nota de un grupo de n estudiantes en el examen de Matemáticas. El examen consiste de c categorías, cada una de ellas con un número de p preguntas (el mismo número de preguntas por cada categoría). Tu programa debe imprimir la nota total de cada uno de los n estudiantes sumando los valores. Por ejemplo, suponga que la entrada es la siguiente con n igual a 1, c igual a 3, y p igual a 2, los datos de entrada son: \n",
    "\n",
    "1 3 2\n",
    "3 6 6 6 7 6\n",
    "\n",
    "Entonces su algoritmo debe imprimir lo siguiente: la nota del estudiante 1 es 34"
   ]
  },
  {
   "cell_type": "code",
   "execution_count": null,
   "metadata": {},
   "outputs": [],
   "source": []
  },
  {
   "cell_type": "markdown",
   "metadata": {},
   "source": [
    "## Actividad\n",
    "Escribe un programa que implemente las siguientes funciones:\n",
    "\n",
    "\\begin{equation*}\n",
    "Z = \\prod_{k=1}^{k=n} (\\sum_{j=k}^{j=k+x} (j * k \\prod_{i=k}^{i=k+2}(i+j)))\n",
    "\\end{equation*}\n",
    "\n",
    "\\begin{equation*}\n",
    "X = \\prod_{i=1}^{i=q} (\\sum_{j=i+1}^{j=w} (i^j)\n",
    "\\end{equation*}\n",
    "\n",
    "\\begin{equation*}\n",
    "X = \\sum_{k=3}^{n} (x^k + (\\prod_{j=2}^{k+1} a^{k-j})^2 + \\sqrt{\\prod_{j=1}^{n}(x*j)}\n",
    "\\end{equation*}"
   ]
  },
  {
   "cell_type": "code",
   "execution_count": null,
   "metadata": {},
   "outputs": [],
   "source": []
  }
 ],
 "metadata": {
  "kernelspec": {
   "display_name": "Python 3",
   "language": "python",
   "name": "python3"
  },
  "language_info": {
   "codemirror_mode": {
    "name": "ipython",
    "version": 3
   },
   "file_extension": ".py",
   "mimetype": "text/x-python",
   "name": "python",
   "nbconvert_exporter": "python",
   "pygments_lexer": "ipython3",
   "version": "3.7.3"
  }
 },
 "nbformat": 4,
 "nbformat_minor": 2
}
