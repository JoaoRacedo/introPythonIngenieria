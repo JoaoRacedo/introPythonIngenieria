{
 "cells": [
  {
   "cell_type": "markdown",
   "metadata": {},
   "source": [
    "## Sesión 2 - Condicionales\n",
    "\n",
    "En esta segunda sesion de laboratorio vamos a trabajar condicionales en Python. Al finalizar esta sesión, estarás en capacidad de:\n",
    "- Aplicar conceptos básicos de la matemática en la solución de problemas.\n",
    "- Aplicar la lógica algorítmica para definir una solución a un problema propuesto, en términos de entrada-proceso-salida.\n",
    "- Utilizar Python para escribir algoritmos que ejecuten diferentes instrucciones dadas diferentes condiciones\n"
   ]
  },
  {
   "cell_type": "markdown",
   "metadata": {},
   "source": [
    "Estos Notebooks de Python fueron creados por el profesor Camilo Vieira (PhD) del grupo de *Informática Educativa* para el curso de Algoritmia y Programación I de la Universidad del Norte, en Barranquilla - Colombia. \n",
    "\n",
    "Todos estos materiales cuentan con una licencia **Creative Commons** de libre uso con atribución.\n",
    "\n",
    "**Información de Contacto:** \n",
    "- cvieira@uninorte.edu.co\n",
    "- @cvieiram\n",
    "- https://cvieira77.wixsite.com/personal"
   ]
  },
  {
   "cell_type": "markdown",
   "metadata": {},
   "source": [
    "Antes de comenzar con los condicionales, hagamos que nuestros programas se vuelvan más interactivos con el usuario. \n",
    "\n",
    "La siguiente instrucción le pide al usuario que ingrese un número y lo almacena en la variable x."
   ]
  },
  {
   "cell_type": "code",
   "execution_count": 1,
   "metadata": {},
   "outputs": [
    {
     "name": "stdout",
     "output_type": "stream",
     "text": [
      "Por favor ingresa un número: 23\n"
     ]
    }
   ],
   "source": [
    " x = input(\"Por favor ingresa un número: \")"
   ]
  },
  {
   "cell_type": "markdown",
   "metadata": {},
   "source": [
    "## Actividad\n",
    "Imprime el valor de x y asegúrate que si tiene el número que ingresaste."
   ]
  },
  {
   "cell_type": "code",
   "execution_count": 3,
   "metadata": {},
   "outputs": [
    {
     "data": {
      "text/plain": [
       "'23232323232323232323'"
      ]
     },
     "execution_count": 3,
     "metadata": {},
     "output_type": "execute_result"
    }
   ],
   "source": []
  },
  {
   "cell_type": "markdown",
   "metadata": {},
   "source": [
    "### Pregunta\n",
    "¿Qué ocurre si multiplicas x por 10? ¿Cómo lo podrías arreglar? *Pista:* Revisa el Notebook de la sesión anterior"
   ]
  },
  {
   "cell_type": "code",
   "execution_count": null,
   "metadata": {},
   "outputs": [],
   "source": []
  },
  {
   "cell_type": "markdown",
   "metadata": {},
   "source": [
    "## Actividad\n",
    "Recuerdas la actividad de la sesión anterior sobre la *distancia entre dos átomos*? Vamos a volver a hacer esta actividad pero esta vez vamos a utilizar la función **input** para obtener la ubicación de cada átomo, y luego imprimimos un mensaje que diga: \"La distancia entre los átomos ubicados en (x1,y1,z1) y (x2,y2,z2) es: *valor calculado* \""
   ]
  },
  {
   "cell_type": "code",
   "execution_count": null,
   "metadata": {},
   "outputs": [],
   "source": []
  },
  {
   "cell_type": "markdown",
   "metadata": {},
   "source": [
    "## Condicionales\n",
    "\n",
    "Ahora si vamos a entrar en materia. Recuerda que los condicionales nos permiten decidir qué instrucciones ejecutar y cuales no, y tienen la siguiente estructura:\n",
    "\n",
    "\n",
    "*Si (condición) Entonces*\n",
    "\n",
    "\tinstrucción(es)\n",
    "\n",
    "*Sino*\n",
    "\n",
    "    instrucción(es)\n",
    "\n",
    "*Fin Si*\n",
    "\n",
    "En Python, esto se escribe un poco diferente y no es necesario poner el Fin Si, sino que todo depende de las tabulaciónes. Por ejemplo:\n"
   ]
  },
  {
   "cell_type": "code",
   "execution_count": 3,
   "metadata": {},
   "outputs": [
    {
     "name": "stdout",
     "output_type": "stream",
     "text": [
      "Por favor ingresa un número: 5\n",
      "X es positivo\n",
      "Esto ya está por fuera del condicional\n"
     ]
    }
   ],
   "source": [
    "x = int(input(\"Por favor ingresa un número: \"))\n",
    "if x<0:\n",
    "    print('X es Negativo')\n",
    "else:\n",
    "    print('X es positivo')\n",
    "\n",
    "print('Esto ya está por fuera del condicional')"
   ]
  },
  {
   "cell_type": "markdown",
   "metadata": {},
   "source": [
    "## Actividad\n",
    "Ejecúta el programa varias veces ingresando diferentes valores\n",
    "\n",
    "Mira que en ningún momento dijimos Fin Si, y sin embargo, la última instrucción de imprimir siempre ocurre. Esto es porque no está corrida hacia la derecha (tabulada), así que Python asume que ya acabó el condicional. *Puedes probar y mover la tabulación para incluir la instrucción dentro de una de las condiciones del If.*"
   ]
  },
  {
   "cell_type": "markdown",
   "metadata": {},
   "source": [
    "### Pregunta\n",
    "¿Qué pasa si X es 0? ¿Imprimirá positivo o negativo? ¿Cómo podríamos arreglar este programa para que si X es cero, imprima \"X es cero\"?"
   ]
  },
  {
   "cell_type": "code",
   "execution_count": null,
   "metadata": {},
   "outputs": [],
   "source": []
  },
  {
   "cell_type": "markdown",
   "metadata": {},
   "source": [
    "#### Sino-Si\n",
    "\n",
    "En algunos casos nos puede interesar volver a preguntar algo luego del **\"Sino\"** . En Python, esto se puede hacer de la siguiente manera: *elif* **condicion**:\n",
    "\n",
    "Podrías utilizar el *elif* para volver a arreglar el ejercicio anterior con el valor cero?"
   ]
  },
  {
   "cell_type": "code",
   "execution_count": null,
   "metadata": {},
   "outputs": [],
   "source": []
  },
  {
   "cell_type": "markdown",
   "metadata": {},
   "source": [
    "## Actividad\n",
    "Vamos a pasar algunos de los ejercicios de la sesión de ayer a Python. Convierte el siguiente pseudo-código a Python y modifica el programa para que solo imprima el mayor entre los dos números. **Pista:** Debes importar la libreria random para generar un número aleatorio con la función *randint* . Busca esta función en Internet para saber cómo usarla.\n",
    "\n",
    "**Inicio**\n",
    "\n",
    "    a ⇐ num aleatorio\n",
    "\tb ⇐ num aleatorio\n",
    "\tSi a>b Entonces\n",
    "\t\tescribir a\n",
    "    Fin Si\n",
    "\n",
    "    escribir b\n",
    "    \n",
    "**Fin**\n"
   ]
  },
  {
   "cell_type": "code",
   "execution_count": 7,
   "metadata": {},
   "outputs": [
    {
     "name": "stdout",
     "output_type": "stream",
     "text": [
      "90\n"
     ]
    }
   ],
   "source": []
  },
  {
   "cell_type": "markdown",
   "metadata": {},
   "source": [
    "#### Operadores Lógicos\n",
    "\n",
    "Los operadores lógicos (y/o) en Python son bastante fáciles de recordar, simplemente son las palabras en inglés: *and* y *or*\n",
    "Por ejemplo, podemos hacer nuestras tablas de verdad así:"
   ]
  },
  {
   "cell_type": "code",
   "execution_count": 12,
   "metadata": {},
   "outputs": [
    {
     "name": "stdout",
     "output_type": "stream",
     "text": [
      "True\n",
      "False\n",
      "False\n",
      "False\n",
      "True\n",
      "True\n",
      "True\n",
      "False\n"
     ]
    }
   ],
   "source": [
    "print(True and True)\n",
    "print(True and False)\n",
    "print(False and True)\n",
    "print(False and False)\n",
    "\n",
    "print(True or True)\n",
    "print(True or False)\n",
    "print(False or True)\n",
    "print(False or False)"
   ]
  },
  {
   "cell_type": "markdown",
   "metadata": {},
   "source": [
    "## Actividad\n",
    "Ahora vamos a usar estos operadores para pasar los siguientes pseudo-códigos a Python\n",
    "\n",
    "**Inicio**\n",
    "\n",
    "    a = leer()\n",
    "    b = leer()\n",
    "\n",
    "    Si a>2 & b<4 Entonces\n",
    "        imprimir a\n",
    "    Fin Si\n",
    "\n",
    "**Fin**\n",
    "\n",
    "**Inicio**\n",
    "\n",
    "    a = leer()\n",
    "    b = leer()\n",
    "\n",
    "    Si a>2 | b<4 Entonces\n",
    "        imprimir a\n",
    "    Fin Si\n",
    "\n",
    "**Fin**"
   ]
  },
  {
   "cell_type": "code",
   "execution_count": null,
   "metadata": {},
   "outputs": [],
   "source": []
  },
  {
   "cell_type": "code",
   "execution_count": null,
   "metadata": {},
   "outputs": [],
   "source": []
  },
  {
   "cell_type": "markdown",
   "metadata": {},
   "source": [
    "## Actividad\n",
    "Revisa el siguiente programa. ¿Qué crees que hace? Discútelo con tus compañeros e impleméntalo en Python.\n",
    "\n",
    "**Inicio**\n",
    "\n",
    "    a = leer()\n",
    "    b = leer()\n",
    "    c= leer()\n",
    "\n",
    "    Si a>2 Entonces\n",
    "        Si b<c Entonces\n",
    "            imprimir c\n",
    "        Sino\n",
    "            imprimir b\n",
    "    Sino si a<c Entonces\n",
    "        imprimir c\n",
    "    Sino impmrimir a\n",
    "    \n",
    "    Fin Si\n",
    "\n",
    "**Fin**\n"
   ]
  },
  {
   "cell_type": "code",
   "execution_count": null,
   "metadata": {},
   "outputs": [],
   "source": []
  },
  {
   "cell_type": "markdown",
   "metadata": {},
   "source": [
    "## Actividad\n",
    "Crea un programa que imprima el menor entre tres números"
   ]
  },
  {
   "cell_type": "code",
   "execution_count": null,
   "metadata": {},
   "outputs": [],
   "source": []
  },
  {
   "cell_type": "markdown",
   "metadata": {},
   "source": [
    "## Actividad\n",
    "La contaminación en las principales ciudades del país es algo que preocupa a los gobernantes. \n",
    "\n",
    "Las concentraciones de contaminantes se miden con un valor llamado el Índice de Calidad del Aire (ICA). \n",
    "\n",
    "<img src=\"https://uploads.knightlab.com/storymapjs/928d658dfbbe2d2748d878f9350e303f/las-estaciones-de-monitoreo-del-aire-del-valle-de-aburra/_images/Calidad%20del%20aire.jpg\" width=\"380\">\n",
    "\n",
    "**Reto:** Escribe un programa que capture el ICA y muestre el la clasificación según el valor ingresado"
   ]
  },
  {
   "cell_type": "code",
   "execution_count": null,
   "metadata": {},
   "outputs": [],
   "source": []
  },
  {
   "cell_type": "markdown",
   "metadata": {},
   "source": [
    "## Actividad\n",
    "Revisa el programa de tu compañer@ y verifica si está correcto"
   ]
  },
  {
   "cell_type": "markdown",
   "metadata": {},
   "source": [
    "## Actividad\n",
    "**En Parejas** Crea un programa que le solicite tres nombres al usuario y los imprima en orden alfabético."
   ]
  },
  {
   "cell_type": "code",
   "execution_count": null,
   "metadata": {},
   "outputs": [],
   "source": []
  }
 ],
 "metadata": {
  "kernelspec": {
   "display_name": "Python 3",
   "language": "python",
   "name": "python3"
  },
  "language_info": {
   "codemirror_mode": {
    "name": "ipython",
    "version": 3
   },
   "file_extension": ".py",
   "mimetype": "text/x-python",
   "name": "python",
   "nbconvert_exporter": "python",
   "pygments_lexer": "ipython3",
   "version": "3.7.3"
  }
 },
 "nbformat": 4,
 "nbformat_minor": 2
}
