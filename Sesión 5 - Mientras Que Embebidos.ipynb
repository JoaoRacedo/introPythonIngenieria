{
 "cells": [
  {
   "cell_type": "markdown",
   "metadata": {},
   "source": [
    "## Sesión 4 - Ciclos (Loops) en Python - Mientras Que\n",
    "\n",
    "En esta sesión de laboratorio vamos seguir trabajando con la estructura **Mientras Que** (en inglés, While), pero ahora vamos a tener ciclos embebidos dentro de otros ciclos. Al finalizar esta sesión, estarás en capacidad de:\n",
    "- Resolver problemas en Python que requieran ejecutar tareas de manera repetitiva utilizando la estructura *while*\n",
    "- Identificar cuántas veces se ejecutará una serie de instrucciones que estén dentro de un ciclo/loop *while* que esté embebido en otro ciclo/loop while\n",
    "- Integrar las estructuras de condicionales ( *Si/Sino/Dependiendo De*) para la toma de decisiones dentro de un ciclo/loop *while*"
   ]
  },
  {
   "cell_type": "markdown",
   "metadata": {},
   "source": [
    "Estos Notebooks de Python fueron creados por el profesor Camilo Vieira (PhD) del grupo de *Informática Educativa* para el curso de Algoritmia y Programación I de la Universidad del Norte, en Barranquilla - Colombia. \n",
    "\n",
    "Todos estos materiales cuentan con una licencia **Creative Commons** de libre uso con atribución.\n",
    "\n",
    "**Información de Contacto:** \n",
    "- cvieira@uninorte.edu.co\n",
    "- @cvieiram\n",
    "- https://cvieira77.wixsite.com/personal"
   ]
  },
  {
   "cell_type": "markdown",
   "metadata": {},
   "source": [
    "## Mientras Que en Python\n",
    "Recuerda que los ciclos **Mientras Que** en Python tiene una estructura similar a los condicionales. "
   ]
  },
  {
   "cell_type": "code",
   "execution_count": 2,
   "metadata": {},
   "outputs": [
    {
     "name": "stdout",
     "output_type": "stream",
     "text": [
      "1\n",
      "2\n",
      "3\n",
      "4\n",
      "5\n"
     ]
    }
   ],
   "source": [
    "i = 1\n",
    "while i < 6:\n",
    "  print(i)\n",
    "  i += 1"
   ]
  },
  {
   "cell_type": "markdown",
   "metadata": {},
   "source": [
    "### Actividades\n",
    "Comencemos por implementar en Python los problemas que resolviste en la sesión de ayer pero con algunas mejoras.\n",
    "\n",
    "Crea un programa que le solicite un valor a un usuario e imprima el *factorial* de éste número. \n",
    "\n",
    "**Nota** Asegúrate que el número sea positivo, y si no lo es, imprime un mensaje diciendo \"El número debe ser positivo\" y solicita nuevamente el número. Esto lo debes hacer hasta que el usuario ingrese el valor positivo. ***Pista:*** Tal vez debas usar otro ciclo/loop solo para solicitar el número"
   ]
  },
  {
   "cell_type": "code",
   "execution_count": null,
   "metadata": {},
   "outputs": [],
   "source": []
  },
  {
   "cell_type": "markdown",
   "metadata": {},
   "source": [
    "## Actividad\n",
    "Escribe un programa en Python que le pida un números al usuario hasta que ingrese un número menor que todos los números hasta ese momento, e imprima el mayor el menor de todos los números.número"
   ]
  },
  {
   "cell_type": "code",
   "execution_count": null,
   "metadata": {},
   "outputs": [],
   "source": []
  },
  {
   "cell_type": "markdown",
   "metadata": {},
   "source": [
    "## Actividad\n",
    "La secuencia de Fibonacci es una secuencia de números muy famosa porque representa muchos fenómenos de la naturaleza.\n",
    "\n",
    "<img src=\"https://i.ytimg.com/vi/T8xgfVzef_E/hqdefault.jpg\" width=\"300\">\n",
    "\n",
    "\n",
    "La secuencia comienza con los números 0, 1 y 1, y a partir de allí es posible calcular el siguiente valor como la suma de los dos valores anteriores. Por ejemplo, 1+1=2, 1+2=3, 2+3=5, etc.\n",
    "\n",
    "Así, los primeros números de la secuencia son: 0, 1, 1, 2, 3, 5, 8, 13, 21, 34, ...\n",
    "\n",
    "**En parejas**, crea un programa que le solicite al usuario un número *N* e imprima los primeros *N* números de la secuencia de Fibonacci."
   ]
  },
  {
   "cell_type": "code",
   "execution_count": null,
   "metadata": {},
   "outputs": [],
   "source": []
  },
  {
   "cell_type": "code",
   "execution_count": 8,
   "metadata": {},
   "outputs": [
    {
     "data": {
      "text/plain": [
       "<matplotlib.collections.PathCollection at 0x256a6964e80>"
      ]
     },
     "execution_count": 8,
     "metadata": {},
     "output_type": "execute_result"
    },
    {
     "data": {
      "image/png": "[encoded data removed]",
      "text/plain": [
       "<Figure size 432x288 with 1 Axes>"
      ]
     },
     "metadata": {
      "needs_background": "light"
     },
     "output_type": "display_data"
    }
   ],
   "source": [
    "import matplotlib.pyplot as plt\n",
    "import random\n",
    "plt.scatter(1, random.randint(1,10),s=1000)\n",
    "plt.scatter(2, random.randint(1,10),s=1000)\n",
    "plt.scatter(3, random.randint(1,10),s=1000)\n",
    "plt.scatter(4, random.randint(1,10),s=1000)\n",
    "plt.scatter(5, random.randint(1,10),s=1000)\n",
    "plt.scatter(6, random.randint(1,10),s=1000)\n",
    "plt.scatter(7, random.randint(1,10),s=1000)\n",
    "plt.scatter(8, random.randint(1,10),s=1000)\n",
    "\n"
   ]
  },
  {
   "cell_type": "markdown",
   "metadata": {},
   "source": [
    "### Actividad\n",
    "\n",
    "Escribe un programa que evalúe la siguiente función para un valor de Y solicitado al usuario, y donde X tome los valores de todos los números pares entre -50 y 50 y los grafique en u gráfico de dispersión.\n",
    "\n",
    "\\begin{equation*}\n",
    "f(x, y) = \n",
    "\\left\\{ \\begin{matrix} \n",
    "x+y & \\quad x \\geq 0 \\quad and \\quad y \\geq 0 \\\\ \n",
    "x+y^2 & \\quad x \\geq 0 \\quad and \\quad y \\geq 0 \\\\ \n",
    "x^2+y & \\quad x \\geq 0 \\quad and \\quad y \\geq 0 \\\\ \n",
    "x^2+y^2 & \\quad x \\geq 0 \\quad and \\quad y \\geq 0 \\\\ \n",
    "\\end{matrix} \n",
    "\\right\\}\n",
    "\\end{equation*}\n",
    "\n",
    "\n"
   ]
  },
  {
   "cell_type": "code",
   "execution_count": null,
   "metadata": {},
   "outputs": [],
   "source": []
  },
  {
   "cell_type": "markdown",
   "metadata": {},
   "source": [
    "### Ciclos Embebidos\n",
    "Así como podemos incluir condicionales dentro de nuestros ciclos, también podemos incluir otros ciclos. Es decir, por cada iteración (cada vez que ejecute las instrucciones, hará todo lo que tenga el ciclo interior. Un ciclo dentro de otro ciclo se llama un **Ciclo embebido** (en inglés, nested loops).\n",
    "\n",
    "Por ejemplo, el siguiente programa imprime todas las combinaciones de los números del 1 al 5 con los números del 1 al 15. Discute con tus compañeros para identificar cómo lo hace."
   ]
  },
  {
   "cell_type": "code",
   "execution_count": 7,
   "metadata": {},
   "outputs": [
    {
     "name": "stdout",
     "output_type": "stream",
     "text": [
      "1 , 10\n",
      "1 , 11\n",
      "1 , 12\n",
      "1 , 13\n",
      "1 , 14\n",
      "1 , 15\n",
      "2 , 10\n",
      "2 , 11\n",
      "2 , 12\n",
      "2 , 13\n",
      "2 , 14\n",
      "2 , 15\n",
      "3 , 10\n",
      "3 , 11\n",
      "3 , 12\n",
      "3 , 13\n",
      "3 , 14\n",
      "3 , 15\n",
      "4 , 10\n",
      "4 , 11\n",
      "4 , 12\n",
      "4 , 13\n",
      "4 , 14\n",
      "4 , 15\n",
      "5 , 10\n",
      "5 , 11\n",
      "5 , 12\n",
      "5 , 13\n",
      "5 , 14\n",
      "5 , 15\n"
     ]
    }
   ],
   "source": [
    "i = 1\n",
    "j = 10\n",
    "while i < 6:\n",
    "    while j < 16:\n",
    "        print(i, \",\", j)\n",
    "        j = j + 1\n",
    "    i = i + 1\n",
    "    j=10"
   ]
  },
  {
   "cell_type": "markdown",
   "metadata": {},
   "source": [
    "### Actividad\n",
    "Cambia el programa anterior para que:\n",
    "- Imprima todas las combinaciones de los números del 1 al 5 con los números del 1 al 15 pero de mayor a menor.\n",
    "- Imprima todas las combinaciones de los números del 1 al 10, con los números 20 al 25"
   ]
  },
  {
   "cell_type": "code",
   "execution_count": null,
   "metadata": {},
   "outputs": [],
   "source": []
  },
  {
   "cell_type": "markdown",
   "metadata": {},
   "source": [
    "### Actividad\n",
    "Ahora que ya dominas los ciclos embebidos, volvamos a la función del programa anterior.\n",
    "\n",
    "\\begin{equation*}\n",
    "f(x, y) = \n",
    "\\left\\{ \\begin{matrix} \n",
    "x+y & \\quad x \\geq 0 \\quad and \\quad y \\geq 0 \\\\ \n",
    "x+y^2 & \\quad x \\geq 0 \\quad and \\quad y \\geq 0 \\\\ \n",
    "x^2+y & \\quad x \\geq 0 \\quad and \\quad y \\geq 0 \\\\ \n",
    "x^2+y^2 & \\quad x \\geq 0 \\quad and \\quad y \\geq 0 \\\\ \n",
    "\\end{matrix} \n",
    "\\right\\}\n",
    "\\end{equation*}\n",
    "\n",
    "\n",
    "Tu tarea ahora es crear un programa que evalúe todas las posibles combinaciones de valores de X, Y en el rango -50 a 50, y las grafique en una gráfica de dispersión"
   ]
  },
  {
   "cell_type": "code",
   "execution_count": null,
   "metadata": {},
   "outputs": [],
   "source": []
  }
 ],
 "metadata": {
  "kernelspec": {
   "display_name": "Python 3",
   "language": "python",
   "name": "python3"
  },
  "language_info": {
   "codemirror_mode": {
    "name": "ipython",
    "version": 3
   },
   "file_extension": ".py",
   "mimetype": "text/x-python",
   "name": "python",
   "nbconvert_exporter": "python",
   "pygments_lexer": "ipython3",
   "version": "3.7.3"
  }
 },
 "nbformat": 4,
 "nbformat_minor": 2
}
